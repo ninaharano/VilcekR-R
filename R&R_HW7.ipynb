{
  "nbformat": 4,
  "nbformat_minor": 0,
  "metadata": {
    "colab": {
      "provenance": [],
      "authorship_tag": "ABX9TyNvY6qlV52m4EOkt4zbVBGk",
      "include_colab_link": true
    },
    "kernelspec": {
      "name": "python3",
      "display_name": "Python 3"
    },
    "language_info": {
      "name": "python"
    }
  },
  "cells": [
    {
      "cell_type": "markdown",
      "metadata": {
        "id": "view-in-github",
        "colab_type": "text"
      },
      "source": [
        "<a href=\"https://colab.research.google.com/github/ninaharano/VilcekR-R/blob/main/R%26R_HW7.ipynb\" target=\"_parent\"><img src=\"https://colab.research.google.com/assets/colab-badge.svg\" alt=\"Open In Colab\"/></a>"
      ]
    },
    {
      "cell_type": "code",
      "execution_count": 2,
      "metadata": {
        "id": "l7vVbp2mdI6N",
        "colab": {
          "base_uri": "https://localhost:8080/"
        },
        "outputId": "e8807c37-4b44-4bdc-fad4-48f353be09ee"
      },
      "outputs": [
        {
          "output_type": "execute_result",
          "data": {
            "text/plain": [
              "10"
            ]
          },
          "metadata": {},
          "execution_count": 2
        }
      ],
      "source": [
        "#October 29, 2023\n",
        "\n",
        "2*5"
      ]
    },
    {
      "cell_type": "markdown",
      "source": [
        "Github and similar platforms are important for achieving computational reproducibility in research. Repositories serve as centralized hubs for project, promoting transparency and accessibility. They provide a structured space for code, data, and documentation. This will make it easier for collaborator and researchers to access and replicat computational processes.\n",
        "Version control, a core feature of GitHub utilizing Git, records all changes made to a project. This historical record is crucial for reporoducibility, allowing users to trace back to specific alternations and identify errors.\n",
        "Multiple contributors can collaborate simultaneously, test ideas and go back to previous states when needed. These features promote experimentation while maintaining the project's reproducibility at different stages.\n",
        "Github's publishing capabilities are equally vital. Researchers can share their work with clear instructions for replication experiments or analysis. By doing so, they enhance transparancy and enable others to build upon their work.To summarize, reporisotries, change tracking, and publishing on platforms like GitHub create an environment that ensures computational reproducibility. They enable transparancy, organization, collaboration, and accessibility.\n"
      ],
      "metadata": {
        "id": "Q1-Jqk-srI4y"
      }
    }
  ]
}